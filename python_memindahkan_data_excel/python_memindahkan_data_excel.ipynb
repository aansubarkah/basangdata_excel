{
 "cells": [
  {
   "cell_type": "markdown",
   "metadata": {},
   "source": [
    "### Gunakan Library yang dibutuhkan"
   ]
  },
  {
   "cell_type": "code",
   "execution_count": 1,
   "metadata": {
    "collapsed": true
   },
   "outputs": [],
   "source": [
    "from openpyxl import load_workbook\n",
    "from openpyxl import Workbook"
   ]
  },
  {
   "cell_type": "markdown",
   "metadata": {},
   "source": [
    "#### Load file Excel\n",
    "Ubah lokasi file dari **/home/aan/basangdata_excel/python_memindahkan_data_excel/contoh_pindah_kolom.xlsx** menjadi lokasi yang sesuai, misal **d:\\latihan_excel_python\\contoh_pindah_kolom.xlsx**"
   ]
  },
  {
   "cell_type": "code",
   "execution_count": 5,
   "metadata": {},
   "outputs": [],
   "source": [
    "wb = load_workbook('/home/aan/basangdata_excel/python_memindahkan_data_excel/contoh_pindah_kolom.xlsx', data_only = True)"
   ]
  },
  {
   "cell_type": "markdown",
   "metadata": {},
   "source": [
    "#### Buka semua Sheet\n",
    "Di tiap sheet, baca semua baris pada **kolom B**, jika menemukan kata **JUMLAH PER KEGIATAN** pindahkan ke **kolom C**"
   ]
  },
  {
   "cell_type": "code",
   "execution_count": 7,
   "metadata": {},
   "outputs": [],
   "source": [
    "for ws in wb.worksheets:\n",
    "    max_row_b = ws.max_row + 1\n",
    "    \n",
    "    for row_b in range(2, max_row_b):\n",
    "        if ws['B' + str(row_b)].value == 'JUMLAH PER KEGIATAN':\n",
    "            ws['C' + str(row_b)].value = 'JUMLAH PER KEGIATAN'\n",
    "            ws['B' + str(row_b)].value = ''"
   ]
  },
  {
   "cell_type": "markdown",
   "metadata": {},
   "source": [
    "#### Simpan file Excel\n",
    "Dengan nama **contoh_pindah_kolom_hasil.xlsx**, sekali lagi silahkan ubah lokasi file agar sesuai"
   ]
  },
  {
   "cell_type": "code",
   "execution_count": 8,
   "metadata": {
    "collapsed": true
   },
   "outputs": [],
   "source": [
    "wb.save('/home/aan/basangdata_excel/python_memindahkan_data_excel/contoh_pindah_kolom_hasil.xlsx')"
   ]
  }
 ],
 "metadata": {
  "kernelspec": {
   "display_name": "Python 3",
   "language": "python",
   "name": "python3"
  },
  "language_info": {
   "codemirror_mode": {
    "name": "ipython",
    "version": 3
   },
   "file_extension": ".py",
   "mimetype": "text/x-python",
   "name": "python",
   "nbconvert_exporter": "python",
   "pygments_lexer": "ipython3",
   "version": "3.6.3"
  }
 },
 "nbformat": 4,
 "nbformat_minor": 2
}
