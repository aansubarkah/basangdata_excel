{
 "cells": [
  {
   "cell_type": "markdown",
   "metadata": {},
   "source": [
    "### Gunakan Library yang dibutuhkan"
   ]
  },
  {
   "cell_type": "code",
   "execution_count": 17,
   "metadata": {
    "collapsed": true
   },
   "outputs": [],
   "source": [
    "from openpyxl import load_workbook"
   ]
  },
  {
   "cell_type": "markdown",
   "metadata": {},
   "source": [
    "#### Load file Excel\n",
    "Ubah lokasi file dari **/home/aan/basangdata_excel/python_mengambil_kata_setelah_karakter_tertentu/contoh_mengambil_kata_setelah_karakter.xlsx** menjadi lokasi yang sesuai, misal **d:\\\\latihan_excel_python\\\\contoh_mengambil_kata_setelah_karakter.xlsx**"
   ]
  },
  {
   "cell_type": "code",
   "execution_count": 18,
   "metadata": {
    "collapsed": true
   },
   "outputs": [],
   "source": [
    "wb = load_workbook('/home/aan/basangdata_excel/python_mengambil_kata_setelah_karakter_tertentu/contoh_mengambil_kata_setelah_karakter.xlsx', data_only = True)"
   ]
  },
  {
   "cell_type": "markdown",
   "metadata": {},
   "source": [
    "#### Gunakan sheet aktif"
   ]
  },
  {
   "cell_type": "code",
   "execution_count": 19,
   "metadata": {
    "collapsed": true
   },
   "outputs": [],
   "source": [
    "ws = wb.active"
   ]
  },
  {
   "cell_type": "markdown",
   "metadata": {},
   "source": [
    "#### Variable max_row\n",
    "berisi nomor baris paling bawah yang berisi teks, dan ditambahkan 1"
   ]
  },
  {
   "cell_type": "code",
   "execution_count": 20,
   "metadata": {
    "collapsed": true
   },
   "outputs": [],
   "source": [
    "max_row = ws.max_row + 1"
   ]
  },
  {
   "cell_type": "markdown",
   "metadata": {},
   "source": [
    "#### Ulangi langkah ini pada semua baris\n",
    "Baris yang digunakan adalah dari **baris 2** sampai baris terakhir yang berisi teks. Variable **url** berisi teks dari kolom **B**. Jika variable **url** tidak kosong maka buat variable **arr_url** yang berisi array (daftar) teks dari variable **url** yang dipisah-pisahkan berdasar karakter **/**. Isi kolom C dengan **teks terakhir** dari variable **arr_url**."
   ]
  },
  {
   "cell_type": "code",
   "execution_count": 21,
   "metadata": {},
   "outputs": [],
   "source": [
    "for row_b in range(2, max_row):\n",
    "    url = ws['B' + str(row_b)].value\n",
    "    if url:\n",
    "        arr_url = url.split('/')\n",
    "        ws['C' + str(row_b)].value = arr_url[-1]"
   ]
  },
  {
   "cell_type": "markdown",
   "metadata": {},
   "source": [
    "#### Simpan file Excel\n",
    "sesuaikan nama file agar sesuai"
   ]
  },
  {
   "cell_type": "code",
   "execution_count": 22,
   "metadata": {
    "collapsed": true
   },
   "outputs": [],
   "source": [
    "wb.save('/home/aan/basangdata_excel/python_mengambil_kata_setelah_karakter_tertentu/contoh_mengambil_kata_setelah_karakter_hasil.xlsx')"
   ]
  }
 ],
 "metadata": {
  "kernelspec": {
   "display_name": "Python 3",
   "language": "python",
   "name": "python3"
  },
  "language_info": {
   "codemirror_mode": {
    "name": "ipython",
    "version": 3
   },
   "file_extension": ".py",
   "mimetype": "text/x-python",
   "name": "python",
   "nbconvert_exporter": "python",
   "pygments_lexer": "ipython3",
   "version": "3.6.3"
  }
 },
 "nbformat": 4,
 "nbformat_minor": 2
}
